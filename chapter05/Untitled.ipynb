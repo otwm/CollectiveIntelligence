{
 "cells": [
  {
   "cell_type": "code",
   "execution_count": 5,
   "metadata": {
    "collapsed": false
   },
   "outputs": [],
   "source": [
    "import time\n",
    "import random\n",
    "import math\n",
    "\n",
    "people = [('Seymour','BOS'),\n",
    "          ('Franny','DAL'),\n",
    "          ('Zooey','CAK'),\n",
    "          ('Walt','MIA'),\n",
    "          ('Buddy','ORD'),\n",
    "          ('Les','OMA')]\n",
    "# Laguardia\n",
    "destination='LGA'\n",
    "\n",
    "\n",
    "flights={}\n",
    "# \n",
    "for line in open('schedule.txt'):\n",
    "  origin,dest,depart,arrive,price=line.strip().split(',')\n",
    "  flights.setdefault((origin,dest),[])\n",
    "\n",
    "  # Add details to the list of possible flights\n",
    "  flights[(origin,dest)].append((depart,arrive,int(price)))\n",
    "\n",
    "def getminutes(t):\n",
    "  x=time.strptime(t,'%H:%M')\n",
    "  return x[3]*60+x[4]\n",
    "\n",
    "def printschedule(r):\n",
    "  for d in range(int(len(r)/2)):\n",
    "    name=people[d][0]\n",
    "    origin=people[d][1]\n",
    "    out=flights[(origin,destination)][int(r[d*2])]\n",
    "    ret=flights[(destination,origin)][int(r[d*2+1])]\n",
    "    print('%10s%10s %5s-%5s $%3s %5s-%5s $%3s' % (name,origin,out[0],out[1],out[2],ret[0],ret[1],ret[2]))\n",
    "    \n",
    "def schedulecost(sol):\n",
    "  totalprice=0\n",
    "  latestarrival=0\n",
    "  earliestdep=24*60\n",
    "\n",
    "  for d in range(int(len(sol)/2)):\n",
    "    # Get the inbound and outbound flights\n",
    "    origin=people[d][1]\n",
    "    outbound=flights[(origin,destination)][int(sol[d*2])]\n",
    "    returnf=flights[(destination,origin)][int(sol[d*2+1])]\n",
    "    \n",
    "    # Total price is the price of all outbound and return flights\n",
    "    totalprice+=outbound[2]\n",
    "    totalprice+=returnf[2]\n",
    "    \n",
    "    # Track the latest arrival and earliest departure\n",
    "    if latestarrival<getminutes(outbound[1]): latestarrival=getminutes(outbound[1])\n",
    "    if earliestdep>getminutes(returnf[0]): earliestdep=getminutes(returnf[0])\n",
    "    #print('last %10s' % latestarrival)    \n",
    "  \n",
    "  # Every person must wait at the airport until the latest person arrives.\n",
    "  # They also must arrive at the same time and wait for their flights.\n",
    "  totalwait=0  \n",
    "  for d in range(int(len(sol)/2)):\n",
    "    origin=people[d][1]\n",
    "    outbound=flights[(origin,destination)][int(sol[d*2])]\n",
    "    returnf=flights[(destination,origin)][int(sol[d*2+1])]\n",
    "    totalwait+=latestarrival-getminutes(outbound[1])\n",
    "    totalwait+=getminutes(returnf[0])-earliestdep  \n",
    "\n",
    "  # Does this solution require an extra day of car rental? That'll be $50!\n",
    "  if latestarrival>earliestdep: totalprice+=50\n",
    "  #print(totalprice)\n",
    "  return totalprice+totalwait\n",
    "    \n",
    "def randomoptimize(domain,costf):\n",
    "  best=999999999\n",
    "  bestr=None\n",
    "  for i in range(0,4000):\n",
    "    # Create a random solution\n",
    "    r=[float(random.randint(domain[i][0],domain[i][1])) \n",
    "       for i in range(len(domain))]\n",
    "    \n",
    "    # Get the cost\n",
    "    cost=costf(r)\n",
    "    \n",
    "    # Compare it to the best one so far\n",
    "    if cost<best:\n",
    "      best=cost\n",
    "      bestr=r \n",
    "  return r\n",
    "\n",
    "def hillclimb(domain,costf):\n",
    "  # Create a random solution\n",
    "  sol=[random.randint(domain[i][0],domain[i][1])\n",
    "      for i in range(len(domain))]\n",
    "  # Main loop\n",
    "  while 1:\n",
    "    # Create list of neighboring solutions\n",
    "    neighbors=[]\n",
    "    \n",
    "    for j in range(len(domain)):\n",
    "      # One away in each direction\n",
    "      if sol[j]>domain[j][0]:\n",
    "        neighbors.append(sol[0:j]+[sol[j]+1]+sol[j+1:])\n",
    "      if sol[j]<domain[j][1]:\n",
    "        neighbors.append(sol[0:j]+[sol[j]-1]+sol[j+1:])\n",
    "\n",
    "    # See what the best solution amongst the neighbors is\n",
    "    current=costf(sol)\n",
    "    best=current\n",
    "    for j in range(len(neighbors)):\n",
    "      cost=costf(neighbors[j])\n",
    "      if cost<best:\n",
    "        best=cost\n",
    "        sol=neighbors[j]\n",
    "\n",
    "    # If there's no improvement, then we've reached the top\n",
    "    if best==current:\n",
    "      break\n",
    "  return sol\n",
    "\n",
    "def annealingoptimize(domain,costf,T=10000.0,cool=0.95,step=1):\n",
    "  # Initialize the values randomly\n",
    "  vec=[float(random.randint(domain[i][0],domain[i][1])) \n",
    "       for i in range(len(domain))]\n",
    "  \n",
    "  while T>0.1:\n",
    "    # Choose one of the indices\n",
    "    i=random.randint(0,len(domain)-1)\n",
    "\n",
    "    # Choose a direction to change it\n",
    "    dir=random.randint(-step,step)\n",
    "\n",
    "    # Create a new list with one of the values changed\n",
    "    vecb=vec[:]\n",
    "    vecb[i]+=dir\n",
    "    if vecb[i]<domain[i][0]: vecb[i]=domain[i][0]\n",
    "    elif vecb[i]>domain[i][1]: vecb[i]=domain[i][1]\n",
    "\n",
    "    # Calculate the current cost and the new cost\n",
    "    ea=costf(vec)\n",
    "    eb=costf(vecb)\n",
    "    p=pow(math.e,(-eb-ea)/T)\n",
    "\n",
    "    # Is it better, or does it make the probability\n",
    "    # cutoff?\n",
    "    if (eb<ea or random.random()<p):\n",
    "      vec=vecb      \n",
    "\n",
    "    # Decrease the temperature\n",
    "    T=T*cool\n",
    "  return vec\n"
   ]
  },
  {
   "cell_type": "code",
   "execution_count": 45,
   "metadata": {
    "collapsed": false
   },
   "outputs": [
    {
     "name": "stdout",
     "output_type": "stream",
     "text": [
      "   Seymour       BOS 13:40-15:37 $138 10:33-12:03 $ 74\n",
      "    Franny       DAL 13:54-18:02 $294  9:49-13:51 $229\n",
      "     Zooey       CAK 15:23-17:25 $232 10:32-13:16 $139\n",
      "      Walt       MIA 15:34-18:11 $326  8:23-11:07 $143\n",
      "     Buddy       ORD 14:22-16:32 $126  7:50-10:08 $164\n",
      "       Les       OMA  9:15-12:03 $ 99  8:04-10:59 $136\n"
     ]
    }
   ],
   "source": [
    "s1 = annealingoptimize(domain,schedulecost)\n",
    "schedulecost(s1)\n",
    "printschedule(s1)"
   ]
  },
  {
   "cell_type": "code",
   "execution_count": 14,
   "metadata": {
    "collapsed": false
   },
   "outputs": [
    {
     "data": {
      "text/plain": [
       "[(0, 8),\n",
       " (0, 8),\n",
       " (0, 8),\n",
       " (0, 8),\n",
       " (0, 8),\n",
       " (0, 8),\n",
       " (0, 8),\n",
       " (0, 8),\n",
       " (0, 8),\n",
       " (0, 8),\n",
       " (0, 8),\n",
       " (0, 8)]"
      ]
     },
     "execution_count": 14,
     "metadata": {},
     "output_type": "execute_result"
    }
   ],
   "source": [
    "domain"
   ]
  },
  {
   "cell_type": "code",
   "execution_count": 7,
   "metadata": {
    "collapsed": false
   },
   "outputs": [
    {
     "name": "stdout",
     "output_type": "stream",
     "text": [
      "   Seymour       BOS  8:04-10:11 $ 95 12:08-14:05 $142\n",
      "    Franny       DAL 10:30-14:57 $290  9:49-13:51 $229\n"
     ]
    },
    {
     "data": {
      "text/plain": [
       "6125"
      ]
     },
     "execution_count": 7,
     "metadata": {},
     "output_type": "execute_result"
    }
   ],
   "source": [
    "s = [1,4,3,2,7,3,6,3,2,4,5,3]\n",
    "s = [1,4,3,2]\n",
    "printschedule(s)\n",
    "schedulecost(s)\n",
    "\n",
    "schedulecost([3.0, 8.0, 0.0, 4.0, 6.0, 6.0, 0.0, 0.0, 5.0, 3.0, 6.0, 5.0])"
   ]
  },
  {
   "cell_type": "code",
   "execution_count": 8,
   "metadata": {
    "collapsed": false
   },
   "outputs": [
    {
     "data": {
      "text/plain": [
       "[4.0, 4.0, 0.0, 7.0, 1.0, 4.0, 4.0, 7.0, 4.0, 8.0, 4.0, 0.0]"
      ]
     },
     "execution_count": 8,
     "metadata": {},
     "output_type": "execute_result"
    }
   ],
   "source": [
    "domain = [(0,8)] * ( len(people) * 2)\n",
    "randomoptimize(domain,schedulecost)"
   ]
  },
  {
   "cell_type": "code",
   "execution_count": 9,
   "metadata": {
    "collapsed": false
   },
   "outputs": [
    {
     "data": {
      "text/plain": [
       "[('6:39', '8:09', 86),\n",
       " ('8:23', '10:28', 149),\n",
       " ('9:58', '11:18', 130),\n",
       " ('10:33', '12:03', 74),\n",
       " ('12:08', '14:05', 142),\n",
       " ('13:39', '15:30', 74),\n",
       " ('15:25', '16:58', 62),\n",
       " ('17:03', '18:03', 103),\n",
       " ('18:24', '20:49', 124),\n",
       " ('19:58', '21:23', 142)]"
      ]
     },
     "execution_count": 9,
     "metadata": {},
     "output_type": "execute_result"
    }
   ],
   "source": [
    "flights[('LGA', 'BOS')]"
   ]
  },
  {
   "cell_type": "code",
   "execution_count": 10,
   "metadata": {
    "collapsed": false
   },
   "outputs": [
    {
     "data": {
      "text/plain": [
       "4855"
      ]
     },
     "execution_count": 10,
     "metadata": {},
     "output_type": "execute_result"
    }
   ],
   "source": [
    "s= hillclimb(domain, schedulecost)\n",
    "schedulecost(s)"
   ]
  },
  {
   "cell_type": "code",
   "execution_count": 11,
   "metadata": {
    "collapsed": false
   },
   "outputs": [
    {
     "data": {
      "text/plain": [
       "[0, 2, 4, 1, 4, 0, 6, 8, 3, 7, 8, 4]"
      ]
     },
     "execution_count": 11,
     "metadata": {},
     "output_type": "execute_result"
    }
   ],
   "source": [
    "sol=[random.randint(domain[i][0],domain[i][1]) for i in range(len(domain))]\n",
    "sol"
   ]
  },
  {
   "cell_type": "code",
   "execution_count": 12,
   "metadata": {
    "collapsed": false
   },
   "outputs": [
    {
     "data": {
      "text/plain": [
       "[(0, 8),\n",
       " (0, 8),\n",
       " (0, 8),\n",
       " (0, 8),\n",
       " (0, 8),\n",
       " (0, 8),\n",
       " (0, 8),\n",
       " (0, 8),\n",
       " (0, 8),\n",
       " (0, 8),\n",
       " (0, 8),\n",
       " (0, 8)]"
      ]
     },
     "execution_count": 12,
     "metadata": {},
     "output_type": "execute_result"
    }
   ],
   "source": [
    "sol[0:5] + [sol[5] + 1] + sol[5+1:]\n",
    "domain"
   ]
  }
 ],
 "metadata": {
  "kernelspec": {
   "display_name": "Python 3",
   "language": "python",
   "name": "python3"
  },
  "language_info": {
   "codemirror_mode": {
    "name": "ipython",
    "version": 3
   },
   "file_extension": ".py",
   "mimetype": "text/x-python",
   "name": "python",
   "nbconvert_exporter": "python",
   "pygments_lexer": "ipython3",
   "version": "3.5.1"
  }
 },
 "nbformat": 4,
 "nbformat_minor": 0
}
